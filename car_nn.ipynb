{
  "cells": [
    {
      "cell_type": "markdown",
      "id": "3ae5872e",
      "metadata": {
        "id": "3ae5872e"
      },
      "source": [
        "https://www.kaggle.com/datasets/tunguz/used-car-auction-prices?resource=download"
      ]
    },
    {
      "cell_type": "markdown",
      "id": "ecdcedaf",
      "metadata": {
        "id": "ecdcedaf"
      },
      "source": [
        "## What\n",
        "Predict what a car will sell for at Auction given \n",
        "features of the car such as make, model, condition, odometer, et cetera.\n",
        "\n",
        "\n",
        "# Why\n",
        "Could be useful for buyers so they can guage their bids.\n",
        "Also useful for sellers to give an idea of what a car is worth at auction.\n",
        "\n",
        "# Background\n",
        "I was looking for a decent data set to use for regression and I found this one on Kaggle,   \n",
        "  see https://www.kaggle.com/datasets/tunguz/used-car-auction-prices?resource=download  \n",
        "\n",
        "I find auctions fascinating and since the data here comes from real auctions I decided this was a good choice.  \n",
        "It is also a good one to practice some data manipulation and feature engineering one.\n"
      ]
    },
    {
      "cell_type": "code",
      "execution_count": null,
      "id": "6b0b83ad",
      "metadata": {
        "id": "6b0b83ad"
      },
      "outputs": [],
      "source": [
        "import os\n",
        "import pandas as pd\n",
        "import numpy as np\n",
        "import sklearn\n",
        "import matplotlib as mpl\n",
        "import matplotlib.pyplot as plt\n",
        "from IPython.display import display"
      ]
    },
    {
      "cell_type": "code",
      "source": [
        "try:\n",
        "  import google.colab\n",
        "  COLAB = True\n",
        "except:\n",
        "  COLAB = False"
      ],
      "metadata": {
        "id": "cbLp6aK0gUdS"
      },
      "id": "cbLp6aK0gUdS",
      "execution_count": null,
      "outputs": []
    },
    {
      "cell_type": "code",
      "execution_count": null,
      "id": "fb284f87",
      "metadata": {
        "colab": {
          "base_uri": "https://localhost:8080/"
        },
        "id": "fb284f87",
        "outputId": "2cf421c8-4c9c-493f-e616-5341f170a3b9"
      },
      "outputs": [
        {
          "output_type": "stream",
          "name": "stdout",
          "text": [
            "Drive already mounted at /content/gdrive; to attempt to forcibly remount, call drive.mount(\"/content/gdrive\", force_remount=True).\n"
          ]
        },
        {
          "output_type": "execute_result",
          "data": {
            "text/plain": [
              "(558811, 16)"
            ]
          },
          "metadata": {},
          "execution_count": 88
        }
      ],
      "source": [
        "if COLAB:\n",
        "  from google.colab import drive\n",
        "  drive.mount('/content/gdrive')\n",
        "  source_dir = '/content/gdrive/MyDrive/data/'\n",
        "  os.listdir(source_dir)\n",
        "else:\n",
        "  source_dir = \".\"\n",
        "fpath = os.path.join(source_dir, \"car_prices.csv\")\n",
        "orig = pd.read_csv(fpath, on_bad_lines=\"skip\" )\n",
        "orig.shape"
      ]
    },
    {
      "cell_type": "code",
      "execution_count": null,
      "id": "61463bde",
      "metadata": {
        "id": "61463bde"
      },
      "outputs": [],
      "source": [
        "\"\"\" Some functions to compile a \"summary\" of a data frame\n",
        "    including types, number unique, min and max \"\"\"\n",
        "\n",
        "def getTypes(df):\n",
        "    serlist  = []\n",
        "    temp = df.applymap(type)\n",
        "    for col in temp.columns:\n",
        "        ser = pd.Series(name=col, dtype=\"float32\")\n",
        "        ser[col] = temp[col].unique()\n",
        "        serlist.append(ser)\n",
        "    ser = pd.concat(serlist)\n",
        "    ser.name = \"dtypes\"\n",
        "    return ser\n",
        "\n",
        "def getMinMax(df):\n",
        "    minser = pd.Series(name=\"min\", dtype=\"float32\")\n",
        "    maxser = pd.Series(name=\"max\", dtype=\"float32\")\n",
        "    for col in df.columns:\n",
        "        try:\n",
        "            minser[col] = df.loc[df[col].notnull(), col].min()\n",
        "            maxser[col] = df.loc[df[col].notnull(), col].max()\n",
        "        except:\n",
        "            minser[col] = None\n",
        "            maxser[col] = None\n",
        "    res = pd.merge(minser, maxser, left_index=True, right_index=True)\n",
        "    return res\n",
        "\n",
        "def dfSummary(df):\n",
        "    sdf = pd.DataFrame(df.isnull().sum(), columns=[\"nulls\"])\n",
        "    temp = pd.DataFrame(getTypes(df), columns=[\"dtypes\"])\n",
        "    sdf = sdf.merge(temp, how=\"left\", left_index=True, right_index=True)\n",
        "    temp = pd.DataFrame(df.nunique(), columns=[\"nunique\"])\n",
        "    sdf = sdf.merge(temp, how=\"left\", left_index=True, right_index=True)\n",
        "    sdf = sdf.merge(getMinMax(df), how=\"left\", left_index=True, right_index=True)    \n",
        "    return sdf"
      ]
    },
    {
      "cell_type": "code",
      "source": [
        "dfSummary(orig)"
      ],
      "metadata": {
        "colab": {
          "base_uri": "https://localhost:8080/",
          "height": 551
        },
        "id": "yRzut931lna6",
        "outputId": "f15ab2e0-ba23-47f7-fcdb-d571f49dcd2b"
      },
      "id": "yRzut931lna6",
      "execution_count": null,
      "outputs": [
        {
          "output_type": "execute_result",
          "data": {
            "text/plain": [
              "              nulls                            dtypes  nunique  \\\n",
              "year              0                   [<class 'int'>]       34   \n",
              "make          10301  [<class 'str'>, <class 'float'>]       96   \n",
              "model         10399  [<class 'str'>, <class 'float'>]      973   \n",
              "trim          10651  [<class 'str'>, <class 'float'>]     1975   \n",
              "body          13195  [<class 'str'>, <class 'float'>]       86   \n",
              "transmission  65353  [<class 'str'>, <class 'float'>]        2   \n",
              "vin               0                   [<class 'str'>]   550296   \n",
              "state             0                   [<class 'str'>]       38   \n",
              "condition     11794                 [<class 'float'>]       41   \n",
              "odometer         94                 [<class 'float'>]   172277   \n",
              "color           749  [<class 'str'>, <class 'float'>]       20   \n",
              "interior        749  [<class 'str'>, <class 'float'>]       17   \n",
              "seller            0                   [<class 'str'>]    14264   \n",
              "mmr               0                   [<class 'int'>]     1101   \n",
              "sellingprice      0                   [<class 'int'>]     1887   \n",
              "saledate          0                   [<class 'str'>]     3745   \n",
              "\n",
              "                                                  min  \\\n",
              "year                                             1982   \n",
              "make                                            Acura   \n",
              "model                                               1   \n",
              "trim                                                !   \n",
              "body                                       Access Cab   \n",
              "transmission                                automatic   \n",
              "vin                                 137fa90362e197965   \n",
              "state                                              ab   \n",
              "condition                                         1.0   \n",
              "odometer                                          1.0   \n",
              "color                                           beige   \n",
              "interior                                        beige   \n",
              "seller                       1 cochran of monroeville   \n",
              "mmr                                                25   \n",
              "sellingprice                                        1   \n",
              "saledate      Fri Apr 03 2015 01:29:00 GMT-0700 (PDT)   \n",
              "\n",
              "                                                  max  \n",
              "year                                             2015  \n",
              "make                                               vw  \n",
              "model                                           yukon  \n",
              "trim                                              zx3  \n",
              "body                                          xtracab  \n",
              "transmission                                   manual  \n",
              "vin                                 zhwgu22t97la05738  \n",
              "state                                              wi  \n",
              "condition                                         5.0  \n",
              "odometer                                     999999.0  \n",
              "color                                               —  \n",
              "interior                                            —  \n",
              "seller                                 zygi auto corp  \n",
              "mmr                                            182000  \n",
              "sellingprice                                   230000  \n",
              "saledate      Wed May 27 2015 17:00:00 GMT-0700 (PDT)  "
            ],
            "text/html": [
              "\n",
              "  <div id=\"df-5bcc0455-f890-4f91-971b-9f534b564d2a\">\n",
              "    <div class=\"colab-df-container\">\n",
              "      <div>\n",
              "<style scoped>\n",
              "    .dataframe tbody tr th:only-of-type {\n",
              "        vertical-align: middle;\n",
              "    }\n",
              "\n",
              "    .dataframe tbody tr th {\n",
              "        vertical-align: top;\n",
              "    }\n",
              "\n",
              "    .dataframe thead th {\n",
              "        text-align: right;\n",
              "    }\n",
              "</style>\n",
              "<table border=\"1\" class=\"dataframe\">\n",
              "  <thead>\n",
              "    <tr style=\"text-align: right;\">\n",
              "      <th></th>\n",
              "      <th>nulls</th>\n",
              "      <th>dtypes</th>\n",
              "      <th>nunique</th>\n",
              "      <th>min</th>\n",
              "      <th>max</th>\n",
              "    </tr>\n",
              "  </thead>\n",
              "  <tbody>\n",
              "    <tr>\n",
              "      <th>year</th>\n",
              "      <td>0</td>\n",
              "      <td>[&lt;class 'int'&gt;]</td>\n",
              "      <td>34</td>\n",
              "      <td>1982</td>\n",
              "      <td>2015</td>\n",
              "    </tr>\n",
              "    <tr>\n",
              "      <th>make</th>\n",
              "      <td>10301</td>\n",
              "      <td>[&lt;class 'str'&gt;, &lt;class 'float'&gt;]</td>\n",
              "      <td>96</td>\n",
              "      <td>Acura</td>\n",
              "      <td>vw</td>\n",
              "    </tr>\n",
              "    <tr>\n",
              "      <th>model</th>\n",
              "      <td>10399</td>\n",
              "      <td>[&lt;class 'str'&gt;, &lt;class 'float'&gt;]</td>\n",
              "      <td>973</td>\n",
              "      <td>1</td>\n",
              "      <td>yukon</td>\n",
              "    </tr>\n",
              "    <tr>\n",
              "      <th>trim</th>\n",
              "      <td>10651</td>\n",
              "      <td>[&lt;class 'str'&gt;, &lt;class 'float'&gt;]</td>\n",
              "      <td>1975</td>\n",
              "      <td>!</td>\n",
              "      <td>zx3</td>\n",
              "    </tr>\n",
              "    <tr>\n",
              "      <th>body</th>\n",
              "      <td>13195</td>\n",
              "      <td>[&lt;class 'str'&gt;, &lt;class 'float'&gt;]</td>\n",
              "      <td>86</td>\n",
              "      <td>Access Cab</td>\n",
              "      <td>xtracab</td>\n",
              "    </tr>\n",
              "    <tr>\n",
              "      <th>transmission</th>\n",
              "      <td>65353</td>\n",
              "      <td>[&lt;class 'str'&gt;, &lt;class 'float'&gt;]</td>\n",
              "      <td>2</td>\n",
              "      <td>automatic</td>\n",
              "      <td>manual</td>\n",
              "    </tr>\n",
              "    <tr>\n",
              "      <th>vin</th>\n",
              "      <td>0</td>\n",
              "      <td>[&lt;class 'str'&gt;]</td>\n",
              "      <td>550296</td>\n",
              "      <td>137fa90362e197965</td>\n",
              "      <td>zhwgu22t97la05738</td>\n",
              "    </tr>\n",
              "    <tr>\n",
              "      <th>state</th>\n",
              "      <td>0</td>\n",
              "      <td>[&lt;class 'str'&gt;]</td>\n",
              "      <td>38</td>\n",
              "      <td>ab</td>\n",
              "      <td>wi</td>\n",
              "    </tr>\n",
              "    <tr>\n",
              "      <th>condition</th>\n",
              "      <td>11794</td>\n",
              "      <td>[&lt;class 'float'&gt;]</td>\n",
              "      <td>41</td>\n",
              "      <td>1.0</td>\n",
              "      <td>5.0</td>\n",
              "    </tr>\n",
              "    <tr>\n",
              "      <th>odometer</th>\n",
              "      <td>94</td>\n",
              "      <td>[&lt;class 'float'&gt;]</td>\n",
              "      <td>172277</td>\n",
              "      <td>1.0</td>\n",
              "      <td>999999.0</td>\n",
              "    </tr>\n",
              "    <tr>\n",
              "      <th>color</th>\n",
              "      <td>749</td>\n",
              "      <td>[&lt;class 'str'&gt;, &lt;class 'float'&gt;]</td>\n",
              "      <td>20</td>\n",
              "      <td>beige</td>\n",
              "      <td>—</td>\n",
              "    </tr>\n",
              "    <tr>\n",
              "      <th>interior</th>\n",
              "      <td>749</td>\n",
              "      <td>[&lt;class 'str'&gt;, &lt;class 'float'&gt;]</td>\n",
              "      <td>17</td>\n",
              "      <td>beige</td>\n",
              "      <td>—</td>\n",
              "    </tr>\n",
              "    <tr>\n",
              "      <th>seller</th>\n",
              "      <td>0</td>\n",
              "      <td>[&lt;class 'str'&gt;]</td>\n",
              "      <td>14264</td>\n",
              "      <td>1 cochran of monroeville</td>\n",
              "      <td>zygi auto corp</td>\n",
              "    </tr>\n",
              "    <tr>\n",
              "      <th>mmr</th>\n",
              "      <td>0</td>\n",
              "      <td>[&lt;class 'int'&gt;]</td>\n",
              "      <td>1101</td>\n",
              "      <td>25</td>\n",
              "      <td>182000</td>\n",
              "    </tr>\n",
              "    <tr>\n",
              "      <th>sellingprice</th>\n",
              "      <td>0</td>\n",
              "      <td>[&lt;class 'int'&gt;]</td>\n",
              "      <td>1887</td>\n",
              "      <td>1</td>\n",
              "      <td>230000</td>\n",
              "    </tr>\n",
              "    <tr>\n",
              "      <th>saledate</th>\n",
              "      <td>0</td>\n",
              "      <td>[&lt;class 'str'&gt;]</td>\n",
              "      <td>3745</td>\n",
              "      <td>Fri Apr 03 2015 01:29:00 GMT-0700 (PDT)</td>\n",
              "      <td>Wed May 27 2015 17:00:00 GMT-0700 (PDT)</td>\n",
              "    </tr>\n",
              "  </tbody>\n",
              "</table>\n",
              "</div>\n",
              "      <button class=\"colab-df-convert\" onclick=\"convertToInteractive('df-5bcc0455-f890-4f91-971b-9f534b564d2a')\"\n",
              "              title=\"Convert this dataframe to an interactive table.\"\n",
              "              style=\"display:none;\">\n",
              "        \n",
              "  <svg xmlns=\"http://www.w3.org/2000/svg\" height=\"24px\"viewBox=\"0 0 24 24\"\n",
              "       width=\"24px\">\n",
              "    <path d=\"M0 0h24v24H0V0z\" fill=\"none\"/>\n",
              "    <path d=\"M18.56 5.44l.94 2.06.94-2.06 2.06-.94-2.06-.94-.94-2.06-.94 2.06-2.06.94zm-11 1L8.5 8.5l.94-2.06 2.06-.94-2.06-.94L8.5 2.5l-.94 2.06-2.06.94zm10 10l.94 2.06.94-2.06 2.06-.94-2.06-.94-.94-2.06-.94 2.06-2.06.94z\"/><path d=\"M17.41 7.96l-1.37-1.37c-.4-.4-.92-.59-1.43-.59-.52 0-1.04.2-1.43.59L10.3 9.45l-7.72 7.72c-.78.78-.78 2.05 0 2.83L4 21.41c.39.39.9.59 1.41.59.51 0 1.02-.2 1.41-.59l7.78-7.78 2.81-2.81c.8-.78.8-2.07 0-2.86zM5.41 20L4 18.59l7.72-7.72 1.47 1.35L5.41 20z\"/>\n",
              "  </svg>\n",
              "      </button>\n",
              "      \n",
              "  <style>\n",
              "    .colab-df-container {\n",
              "      display:flex;\n",
              "      flex-wrap:wrap;\n",
              "      gap: 12px;\n",
              "    }\n",
              "\n",
              "    .colab-df-convert {\n",
              "      background-color: #E8F0FE;\n",
              "      border: none;\n",
              "      border-radius: 50%;\n",
              "      cursor: pointer;\n",
              "      display: none;\n",
              "      fill: #1967D2;\n",
              "      height: 32px;\n",
              "      padding: 0 0 0 0;\n",
              "      width: 32px;\n",
              "    }\n",
              "\n",
              "    .colab-df-convert:hover {\n",
              "      background-color: #E2EBFA;\n",
              "      box-shadow: 0px 1px 2px rgba(60, 64, 67, 0.3), 0px 1px 3px 1px rgba(60, 64, 67, 0.15);\n",
              "      fill: #174EA6;\n",
              "    }\n",
              "\n",
              "    [theme=dark] .colab-df-convert {\n",
              "      background-color: #3B4455;\n",
              "      fill: #D2E3FC;\n",
              "    }\n",
              "\n",
              "    [theme=dark] .colab-df-convert:hover {\n",
              "      background-color: #434B5C;\n",
              "      box-shadow: 0px 1px 3px 1px rgba(0, 0, 0, 0.15);\n",
              "      filter: drop-shadow(0px 1px 2px rgba(0, 0, 0, 0.3));\n",
              "      fill: #FFFFFF;\n",
              "    }\n",
              "  </style>\n",
              "\n",
              "      <script>\n",
              "        const buttonEl =\n",
              "          document.querySelector('#df-5bcc0455-f890-4f91-971b-9f534b564d2a button.colab-df-convert');\n",
              "        buttonEl.style.display =\n",
              "          google.colab.kernel.accessAllowed ? 'block' : 'none';\n",
              "\n",
              "        async function convertToInteractive(key) {\n",
              "          const element = document.querySelector('#df-5bcc0455-f890-4f91-971b-9f534b564d2a');\n",
              "          const dataTable =\n",
              "            await google.colab.kernel.invokeFunction('convertToInteractive',\n",
              "                                                     [key], {});\n",
              "          if (!dataTable) return;\n",
              "\n",
              "          const docLinkHtml = 'Like what you see? Visit the ' +\n",
              "            '<a target=\"_blank\" href=https://colab.research.google.com/notebooks/data_table.ipynb>data table notebook</a>'\n",
              "            + ' to learn more about interactive tables.';\n",
              "          element.innerHTML = '';\n",
              "          dataTable['output_type'] = 'display_data';\n",
              "          await google.colab.output.renderOutput(dataTable, element);\n",
              "          const docLink = document.createElement('div');\n",
              "          docLink.innerHTML = docLinkHtml;\n",
              "          element.appendChild(docLink);\n",
              "        }\n",
              "      </script>\n",
              "    </div>\n",
              "  </div>\n",
              "  "
            ]
          },
          "metadata": {},
          "execution_count": 90
        }
      ]
    },
    {
      "cell_type": "markdown",
      "source": [
        "### Observations on original data\n",
        "- there are a lot of nulls, but still relatively small\n",
        "   in comparison to the half a million records\n",
        "- some columns have string and float, probably np.nan values\n",
        "- some of the categorical variables have a large number of \n",
        "    different values, maybe too many for one-hot encoding. \n",
        "    Here I am thinking mainly of Model which I expect\n",
        "    could be a useful feature\n",
        "- looks like there are some bad values in some columns,\n",
        " e.g. Min for Model is 1."
      ],
      "metadata": {
        "id": "F5REsE2Rl4uX"
      },
      "id": "F5REsE2Rl4uX"
    },
    {
      "cell_type": "markdown",
      "source": [
        "### Drop nulls\n",
        "Lets try dropping all rows with null values and see what we have left.\n"
      ],
      "metadata": {
        "id": "hZh6Ukd6niBA"
      },
      "id": "hZh6Ukd6niBA"
    },
    {
      "cell_type": "code",
      "execution_count": null,
      "id": "1b625193",
      "metadata": {
        "colab": {
          "base_uri": "https://localhost:8080/"
        },
        "id": "1b625193",
        "outputId": "9e3df6a5-8590-4b5a-e86f-0ff3bc9c4e4b"
      },
      "outputs": [
        {
          "output_type": "execute_result",
          "data": {
            "text/plain": [
              "(472336, 16)"
            ]
          },
          "metadata": {},
          "execution_count": 91
        }
      ],
      "source": [
        "nn = orig.dropna().copy()\n",
        "nn.shape"
      ]
    },
    {
      "cell_type": "markdown",
      "source": [
        "Still over 450,000 records.  That might be enough for a model.\n",
        "At some point it might be worth some analysis of the distribution\n",
        "of the records with null values, but not now."
      ],
      "metadata": {
        "id": "hj9hir5sn5uy"
      },
      "id": "hj9hir5sn5uy"
    },
    {
      "cell_type": "code",
      "source": [
        "\"\"\" add a few columns\n",
        " - a real date column from the string date and show summary again\n",
        " - age, from the selldt and year\n",
        " - logmileage, maybe mileage is not linear itself but some transform is\n",
        " - intcondition, since condition takes on many values between 1 and 5\n",
        "                I wanted to just have 5 values.\n",
        " \"\"\"\n",
        "nn[\"selldt\"] = pd.to_datetime(orig[\"saledate\"])\n",
        "nn[\"age\"] = nn.selldt.apply(lambda x: x.year) - nn.year\n",
        "nn['logmileage'] = nn.odometer.apply(lambda x: int(np.ceil(np.log(x))))\n",
        "nn[\"intcondition\"] = nn.condition.apply(lambda x: int(np.ceil(x)*10))\n",
        "# redo the summary after dropping nulls and adding columns\n",
        "dfSummary(nn)"
      ],
      "metadata": {
        "colab": {
          "base_uri": "https://localhost:8080/",
          "height": 677
        },
        "id": "o20LLarnn0Yf",
        "outputId": "41fb98d0-371a-46f3-b8d4-208488bcb1eb"
      },
      "id": "o20LLarnn0Yf",
      "execution_count": null,
      "outputs": [
        {
          "output_type": "execute_result",
          "data": {
            "text/plain": [
              "              nulls                         dtypes  nunique  \\\n",
              "year              0                [<class 'int'>]       26   \n",
              "make              0                [<class 'str'>]       53   \n",
              "model             0                [<class 'str'>]      768   \n",
              "trim              0                [<class 'str'>]     1507   \n",
              "body              0                [<class 'str'>]       85   \n",
              "transmission      0                [<class 'str'>]        2   \n",
              "vin               0                [<class 'str'>]   465779   \n",
              "state             0                [<class 'str'>]       34   \n",
              "condition         0              [<class 'float'>]       41   \n",
              "odometer          0              [<class 'float'>]   160427   \n",
              "color             0                [<class 'str'>]       20   \n",
              "interior          0                [<class 'str'>]       17   \n",
              "seller            0                [<class 'str'>]    11927   \n",
              "mmr               0                [<class 'int'>]     1099   \n",
              "sellingprice      0                [<class 'int'>]     1806   \n",
              "saledate          0                [<class 'str'>]     3609   \n",
              "selldt            0  [<class 'datetime.datetime'>]     3609   \n",
              "age               0                [<class 'int'>]       27   \n",
              "logmileage        0                [<class 'int'>]       15   \n",
              "intcondition      0                [<class 'int'>]        5   \n",
              "\n",
              "                                                  min  \\\n",
              "year                                             1990   \n",
              "make                                            Acura   \n",
              "model                                        1 Series   \n",
              "trim                                                !   \n",
              "body                                       Access Cab   \n",
              "transmission                                automatic   \n",
              "vin                                 137za84341e193591   \n",
              "state                                              al   \n",
              "condition                                         1.0   \n",
              "odometer                                          1.0   \n",
              "color                                           beige   \n",
              "interior                                        beige   \n",
              "seller                       1 cochran of monroeville   \n",
              "mmr                                                25   \n",
              "sellingprice                                        1   \n",
              "saledate      Fri Apr 03 2015 02:00:00 GMT-0700 (PDT)   \n",
              "selldt                      2014-01-01 09:15:00+08:00   \n",
              "age                                                -1   \n",
              "logmileage                                          0   \n",
              "intcondition                                       10   \n",
              "\n",
              "                                                  max  \n",
              "year                                             2015  \n",
              "make                                            smart  \n",
              "model                                              xD  \n",
              "trim                                        xDrive50i  \n",
              "body                                          xtracab  \n",
              "transmission                                   manual  \n",
              "vin                                 zhwgu22t97la05738  \n",
              "state                                              wi  \n",
              "condition                                         5.0  \n",
              "odometer                                     999999.0  \n",
              "color                                               —  \n",
              "interior                                            —  \n",
              "seller                                 zygi auto corp  \n",
              "mmr                                            182000  \n",
              "sellingprice                                   230000  \n",
              "saledate      Wed May 27 2015 17:00:00 GMT-0700 (PDT)  \n",
              "selldt                      2015-07-21 02:30:00+07:00  \n",
              "age                                                25  \n",
              "logmileage                                         14  \n",
              "intcondition                                       50  "
            ],
            "text/html": [
              "\n",
              "  <div id=\"df-d834d68d-7cd3-4953-8e33-1d7efef6d5e1\">\n",
              "    <div class=\"colab-df-container\">\n",
              "      <div>\n",
              "<style scoped>\n",
              "    .dataframe tbody tr th:only-of-type {\n",
              "        vertical-align: middle;\n",
              "    }\n",
              "\n",
              "    .dataframe tbody tr th {\n",
              "        vertical-align: top;\n",
              "    }\n",
              "\n",
              "    .dataframe thead th {\n",
              "        text-align: right;\n",
              "    }\n",
              "</style>\n",
              "<table border=\"1\" class=\"dataframe\">\n",
              "  <thead>\n",
              "    <tr style=\"text-align: right;\">\n",
              "      <th></th>\n",
              "      <th>nulls</th>\n",
              "      <th>dtypes</th>\n",
              "      <th>nunique</th>\n",
              "      <th>min</th>\n",
              "      <th>max</th>\n",
              "    </tr>\n",
              "  </thead>\n",
              "  <tbody>\n",
              "    <tr>\n",
              "      <th>year</th>\n",
              "      <td>0</td>\n",
              "      <td>[&lt;class 'int'&gt;]</td>\n",
              "      <td>26</td>\n",
              "      <td>1990</td>\n",
              "      <td>2015</td>\n",
              "    </tr>\n",
              "    <tr>\n",
              "      <th>make</th>\n",
              "      <td>0</td>\n",
              "      <td>[&lt;class 'str'&gt;]</td>\n",
              "      <td>53</td>\n",
              "      <td>Acura</td>\n",
              "      <td>smart</td>\n",
              "    </tr>\n",
              "    <tr>\n",
              "      <th>model</th>\n",
              "      <td>0</td>\n",
              "      <td>[&lt;class 'str'&gt;]</td>\n",
              "      <td>768</td>\n",
              "      <td>1 Series</td>\n",
              "      <td>xD</td>\n",
              "    </tr>\n",
              "    <tr>\n",
              "      <th>trim</th>\n",
              "      <td>0</td>\n",
              "      <td>[&lt;class 'str'&gt;]</td>\n",
              "      <td>1507</td>\n",
              "      <td>!</td>\n",
              "      <td>xDrive50i</td>\n",
              "    </tr>\n",
              "    <tr>\n",
              "      <th>body</th>\n",
              "      <td>0</td>\n",
              "      <td>[&lt;class 'str'&gt;]</td>\n",
              "      <td>85</td>\n",
              "      <td>Access Cab</td>\n",
              "      <td>xtracab</td>\n",
              "    </tr>\n",
              "    <tr>\n",
              "      <th>transmission</th>\n",
              "      <td>0</td>\n",
              "      <td>[&lt;class 'str'&gt;]</td>\n",
              "      <td>2</td>\n",
              "      <td>automatic</td>\n",
              "      <td>manual</td>\n",
              "    </tr>\n",
              "    <tr>\n",
              "      <th>vin</th>\n",
              "      <td>0</td>\n",
              "      <td>[&lt;class 'str'&gt;]</td>\n",
              "      <td>465779</td>\n",
              "      <td>137za84341e193591</td>\n",
              "      <td>zhwgu22t97la05738</td>\n",
              "    </tr>\n",
              "    <tr>\n",
              "      <th>state</th>\n",
              "      <td>0</td>\n",
              "      <td>[&lt;class 'str'&gt;]</td>\n",
              "      <td>34</td>\n",
              "      <td>al</td>\n",
              "      <td>wi</td>\n",
              "    </tr>\n",
              "    <tr>\n",
              "      <th>condition</th>\n",
              "      <td>0</td>\n",
              "      <td>[&lt;class 'float'&gt;]</td>\n",
              "      <td>41</td>\n",
              "      <td>1.0</td>\n",
              "      <td>5.0</td>\n",
              "    </tr>\n",
              "    <tr>\n",
              "      <th>odometer</th>\n",
              "      <td>0</td>\n",
              "      <td>[&lt;class 'float'&gt;]</td>\n",
              "      <td>160427</td>\n",
              "      <td>1.0</td>\n",
              "      <td>999999.0</td>\n",
              "    </tr>\n",
              "    <tr>\n",
              "      <th>color</th>\n",
              "      <td>0</td>\n",
              "      <td>[&lt;class 'str'&gt;]</td>\n",
              "      <td>20</td>\n",
              "      <td>beige</td>\n",
              "      <td>—</td>\n",
              "    </tr>\n",
              "    <tr>\n",
              "      <th>interior</th>\n",
              "      <td>0</td>\n",
              "      <td>[&lt;class 'str'&gt;]</td>\n",
              "      <td>17</td>\n",
              "      <td>beige</td>\n",
              "      <td>—</td>\n",
              "    </tr>\n",
              "    <tr>\n",
              "      <th>seller</th>\n",
              "      <td>0</td>\n",
              "      <td>[&lt;class 'str'&gt;]</td>\n",
              "      <td>11927</td>\n",
              "      <td>1 cochran of monroeville</td>\n",
              "      <td>zygi auto corp</td>\n",
              "    </tr>\n",
              "    <tr>\n",
              "      <th>mmr</th>\n",
              "      <td>0</td>\n",
              "      <td>[&lt;class 'int'&gt;]</td>\n",
              "      <td>1099</td>\n",
              "      <td>25</td>\n",
              "      <td>182000</td>\n",
              "    </tr>\n",
              "    <tr>\n",
              "      <th>sellingprice</th>\n",
              "      <td>0</td>\n",
              "      <td>[&lt;class 'int'&gt;]</td>\n",
              "      <td>1806</td>\n",
              "      <td>1</td>\n",
              "      <td>230000</td>\n",
              "    </tr>\n",
              "    <tr>\n",
              "      <th>saledate</th>\n",
              "      <td>0</td>\n",
              "      <td>[&lt;class 'str'&gt;]</td>\n",
              "      <td>3609</td>\n",
              "      <td>Fri Apr 03 2015 02:00:00 GMT-0700 (PDT)</td>\n",
              "      <td>Wed May 27 2015 17:00:00 GMT-0700 (PDT)</td>\n",
              "    </tr>\n",
              "    <tr>\n",
              "      <th>selldt</th>\n",
              "      <td>0</td>\n",
              "      <td>[&lt;class 'datetime.datetime'&gt;]</td>\n",
              "      <td>3609</td>\n",
              "      <td>2014-01-01 09:15:00+08:00</td>\n",
              "      <td>2015-07-21 02:30:00+07:00</td>\n",
              "    </tr>\n",
              "    <tr>\n",
              "      <th>age</th>\n",
              "      <td>0</td>\n",
              "      <td>[&lt;class 'int'&gt;]</td>\n",
              "      <td>27</td>\n",
              "      <td>-1</td>\n",
              "      <td>25</td>\n",
              "    </tr>\n",
              "    <tr>\n",
              "      <th>logmileage</th>\n",
              "      <td>0</td>\n",
              "      <td>[&lt;class 'int'&gt;]</td>\n",
              "      <td>15</td>\n",
              "      <td>0</td>\n",
              "      <td>14</td>\n",
              "    </tr>\n",
              "    <tr>\n",
              "      <th>intcondition</th>\n",
              "      <td>0</td>\n",
              "      <td>[&lt;class 'int'&gt;]</td>\n",
              "      <td>5</td>\n",
              "      <td>10</td>\n",
              "      <td>50</td>\n",
              "    </tr>\n",
              "  </tbody>\n",
              "</table>\n",
              "</div>\n",
              "      <button class=\"colab-df-convert\" onclick=\"convertToInteractive('df-d834d68d-7cd3-4953-8e33-1d7efef6d5e1')\"\n",
              "              title=\"Convert this dataframe to an interactive table.\"\n",
              "              style=\"display:none;\">\n",
              "        \n",
              "  <svg xmlns=\"http://www.w3.org/2000/svg\" height=\"24px\"viewBox=\"0 0 24 24\"\n",
              "       width=\"24px\">\n",
              "    <path d=\"M0 0h24v24H0V0z\" fill=\"none\"/>\n",
              "    <path d=\"M18.56 5.44l.94 2.06.94-2.06 2.06-.94-2.06-.94-.94-2.06-.94 2.06-2.06.94zm-11 1L8.5 8.5l.94-2.06 2.06-.94-2.06-.94L8.5 2.5l-.94 2.06-2.06.94zm10 10l.94 2.06.94-2.06 2.06-.94-2.06-.94-.94-2.06-.94 2.06-2.06.94z\"/><path d=\"M17.41 7.96l-1.37-1.37c-.4-.4-.92-.59-1.43-.59-.52 0-1.04.2-1.43.59L10.3 9.45l-7.72 7.72c-.78.78-.78 2.05 0 2.83L4 21.41c.39.39.9.59 1.41.59.51 0 1.02-.2 1.41-.59l7.78-7.78 2.81-2.81c.8-.78.8-2.07 0-2.86zM5.41 20L4 18.59l7.72-7.72 1.47 1.35L5.41 20z\"/>\n",
              "  </svg>\n",
              "      </button>\n",
              "      \n",
              "  <style>\n",
              "    .colab-df-container {\n",
              "      display:flex;\n",
              "      flex-wrap:wrap;\n",
              "      gap: 12px;\n",
              "    }\n",
              "\n",
              "    .colab-df-convert {\n",
              "      background-color: #E8F0FE;\n",
              "      border: none;\n",
              "      border-radius: 50%;\n",
              "      cursor: pointer;\n",
              "      display: none;\n",
              "      fill: #1967D2;\n",
              "      height: 32px;\n",
              "      padding: 0 0 0 0;\n",
              "      width: 32px;\n",
              "    }\n",
              "\n",
              "    .colab-df-convert:hover {\n",
              "      background-color: #E2EBFA;\n",
              "      box-shadow: 0px 1px 2px rgba(60, 64, 67, 0.3), 0px 1px 3px 1px rgba(60, 64, 67, 0.15);\n",
              "      fill: #174EA6;\n",
              "    }\n",
              "\n",
              "    [theme=dark] .colab-df-convert {\n",
              "      background-color: #3B4455;\n",
              "      fill: #D2E3FC;\n",
              "    }\n",
              "\n",
              "    [theme=dark] .colab-df-convert:hover {\n",
              "      background-color: #434B5C;\n",
              "      box-shadow: 0px 1px 3px 1px rgba(0, 0, 0, 0.15);\n",
              "      filter: drop-shadow(0px 1px 2px rgba(0, 0, 0, 0.3));\n",
              "      fill: #FFFFFF;\n",
              "    }\n",
              "  </style>\n",
              "\n",
              "      <script>\n",
              "        const buttonEl =\n",
              "          document.querySelector('#df-d834d68d-7cd3-4953-8e33-1d7efef6d5e1 button.colab-df-convert');\n",
              "        buttonEl.style.display =\n",
              "          google.colab.kernel.accessAllowed ? 'block' : 'none';\n",
              "\n",
              "        async function convertToInteractive(key) {\n",
              "          const element = document.querySelector('#df-d834d68d-7cd3-4953-8e33-1d7efef6d5e1');\n",
              "          const dataTable =\n",
              "            await google.colab.kernel.invokeFunction('convertToInteractive',\n",
              "                                                     [key], {});\n",
              "          if (!dataTable) return;\n",
              "\n",
              "          const docLinkHtml = 'Like what you see? Visit the ' +\n",
              "            '<a target=\"_blank\" href=https://colab.research.google.com/notebooks/data_table.ipynb>data table notebook</a>'\n",
              "            + ' to learn more about interactive tables.';\n",
              "          element.innerHTML = '';\n",
              "          dataTable['output_type'] = 'display_data';\n",
              "          await google.colab.output.renderOutput(dataTable, element);\n",
              "          const docLink = document.createElement('div');\n",
              "          docLink.innerHTML = docLinkHtml;\n",
              "          element.appendChild(docLink);\n",
              "        }\n",
              "      </script>\n",
              "    </div>\n",
              "  </div>\n",
              "  "
            ]
          },
          "metadata": {},
          "execution_count": 92
        }
      ]
    },
    {
      "cell_type": "markdown",
      "source": [
        "After dropping nulls, no more multiple types in a column, so they were nan's\n",
        "\n",
        "Note the -1 in age.  That might not be a bad value since 2015 cars start selling in 2014."
      ],
      "metadata": {
        "id": "rRgH9Ma6qjD8"
      },
      "id": "rRgH9Ma6qjD8"
    },
    {
      "cell_type": "markdown",
      "source": [
        "Note that the selling price ranges from 1 to over 200K.  These extremes seem like outliers that we can filter out.\n",
        "Let's look at some of the extreme percentiles for sellingprice and a few other columns."
      ],
      "metadata": {
        "id": "HcQTnTtMZ3cF"
      },
      "id": "HcQTnTtMZ3cF"
    },
    {
      "cell_type": "code",
      "source": [
        "cols = [\"sellingprice\", \"odometer\", \"age\"]\n",
        "for col in cols:\n",
        "  print(col)\n",
        "  display(nn[col].quantile([.01, .05, 0.95, .99]))\n",
        "  print(\"---\")"
      ],
      "metadata": {
        "id": "2wGdxFyLW8Ez",
        "outputId": "87d73f23-1a8f-4201-9d84-08a659924d9d",
        "colab": {
          "base_uri": "https://localhost:8080/",
          "height": 382
        }
      },
      "id": "2wGdxFyLW8Ez",
      "execution_count": null,
      "outputs": [
        {
          "output_type": "stream",
          "name": "stdout",
          "text": [
            "sellingprice\n"
          ]
        },
        {
          "output_type": "display_data",
          "data": {
            "text/plain": [
              "0.01      500.0\n",
              "0.05     1650.0\n",
              "0.95    30500.0\n",
              "0.99    44500.0\n",
              "Name: sellingprice, dtype: float64"
            ]
          },
          "metadata": {}
        },
        {
          "output_type": "stream",
          "name": "stdout",
          "text": [
            "---\n",
            "odometer\n"
          ]
        },
        {
          "output_type": "display_data",
          "data": {
            "text/plain": [
              "0.01      3344.05\n",
              "0.05     10450.00\n",
              "0.95    165554.25\n",
              "0.99    221144.95\n",
              "Name: odometer, dtype: float64"
            ]
          },
          "metadata": {}
        },
        {
          "output_type": "stream",
          "name": "stdout",
          "text": [
            "---\n",
            "age\n"
          ]
        },
        {
          "output_type": "display_data",
          "data": {
            "text/plain": [
              "0.01     0.0\n",
              "0.05     1.0\n",
              "0.95    12.0\n",
              "0.99    16.0\n",
              "Name: age, dtype: float64"
            ]
          },
          "metadata": {}
        },
        {
          "output_type": "stream",
          "name": "stdout",
          "text": [
            "---\n"
          ]
        }
      ]
    },
    {
      "cell_type": "markdown",
      "source": [
        "Given the quantiles above I will filter out\n",
        "sellingprice, odometer and age.\n",
        "I will choose some round numbers based on the data above."
      ],
      "metadata": {
        "id": "a8HDADhxaQv9"
      },
      "id": "a8HDADhxaQv9"
    },
    {
      "cell_type": "code",
      "source": [
        "nn_filtered = nn.copy()\n",
        "nn_filtered = nn.loc[(nn_filtered.sellingprice >= 1000) & (nn_filtered.sellingprice <= 30000)]\n",
        "nn_filtered = nn.loc[(nn_filtered.odometer >= 3000) & (nn_filtered.odometer <= 200000)]\n",
        "nn_filtered = nn.loc[(nn_filtered.age >= 0) & (nn_filtered.age <= 12)]"
      ],
      "metadata": {
        "id": "STCGyQEQUBEw"
      },
      "id": "STCGyQEQUBEw",
      "execution_count": null,
      "outputs": []
    },
    {
      "cell_type": "markdown",
      "source": [
        "Also, I want to make condition, age and logmileage factors"
      ],
      "metadata": {
        "id": "mM0-DDj_ZV8U"
      },
      "id": "mM0-DDj_ZV8U"
    },
    {
      "cell_type": "code",
      "source": [
        "\n",
        "nn_cat = nn_filtered.copy()\n",
        "for col in [\"intcondition\", \"logmileage\", \"age\"]:\n",
        "  nn_cat[col] = nn_cat[col].astype('category')"
      ],
      "metadata": {
        "id": "gb6lTVcbZeCy"
      },
      "id": "gb6lTVcbZeCy",
      "execution_count": null,
      "outputs": []
    },
    {
      "cell_type": "markdown",
      "source": [
        "My gut sense is that the following numeric columns seem useful\n",
        "- age, intcondition and logmileage.\n",
        "mmr is some value provided by one of the auction houses.\n",
        "I am not sure when it is available so not sure if we can use it.\n",
        "\n",
        "Let's look at some plots of these variables"
      ],
      "metadata": {
        "id": "4QmYFlbutlEa"
      },
      "id": "4QmYFlbutlEa"
    },
    {
      "cell_type": "code",
      "source": [
        "cols = [\"age\",  \"logmileage\", \"intcondition\", \"mmr\"]\n",
        "fig, axs = plt.subplots(nrows=2, ncols=2, figsize=[20,8])\n",
        "fig.tight_layout(h_pad=4)\n",
        "for i, col in enumerate(cols):\n",
        "  r = i // 2\n",
        "  c = i % 2\n",
        "  ax = axs[r, c]\n",
        "  ax.set_ylabel(\"\")\n",
        "  if col == \"mmr\":\n",
        "    nn_cat.plot.scatter(ax=ax, x=col, y=\"sellingprice\", grid=True) \n",
        "    continue \n",
        "  nn_cat.boxplot(ax=ax, column=\"sellingprice\", by=col, grid=True)"
      ],
      "metadata": {
        "id": "exJ8x7QauHVP",
        "outputId": "e906ed56-18bd-475d-f479-e5bf88f8fc25",
        "colab": {
          "base_uri": "https://localhost:8080/",
          "height": 664
        }
      },
      "id": "exJ8x7QauHVP",
      "execution_count": null,
      "outputs": [
        {
          "output_type": "stream",
          "name": "stderr",
          "text": [
            "/usr/local/lib/python3.8/dist-packages/matplotlib/cbook/__init__.py:1376: VisibleDeprecationWarning: Creating an ndarray from ragged nested sequences (which is a list-or-tuple of lists-or-tuples-or ndarrays with different lengths or shapes) is deprecated. If you meant to do this, you must specify 'dtype=object' when creating the ndarray.\n",
            "  X = np.atleast_1d(X.T if isinstance(X, np.ndarray) else np.asarray(X))\n",
            "/usr/local/lib/python3.8/dist-packages/matplotlib/cbook/__init__.py:1376: VisibleDeprecationWarning: Creating an ndarray from ragged nested sequences (which is a list-or-tuple of lists-or-tuples-or ndarrays with different lengths or shapes) is deprecated. If you meant to do this, you must specify 'dtype=object' when creating the ndarray.\n",
            "  X = np.atleast_1d(X.T if isinstance(X, np.ndarray) else np.asarray(X))\n",
            "/usr/local/lib/python3.8/dist-packages/matplotlib/cbook/__init__.py:1376: VisibleDeprecationWarning: Creating an ndarray from ragged nested sequences (which is a list-or-tuple of lists-or-tuples-or ndarrays with different lengths or shapes) is deprecated. If you meant to do this, you must specify 'dtype=object' when creating the ndarray.\n",
            "  X = np.atleast_1d(X.T if isinstance(X, np.ndarray) else np.asarray(X))\n"
          ]
        },
        {
          "output_type": "display_data",
          "data": {
            "text/plain": [
              "<Figure size 1440x576 with 4 Axes>"
            ],
            "image/png": "[encoded data removed]"
          },
          "metadata": {
            "needs_background": "light"
          }
        }
      ]
    },
    {
      "cell_type": "markdown",
      "source": [
        "The relationships are somewhat as expected\n",
        "- older cars tend to sell for less, although 2, 3 and 4 years\n",
        "   seem to be about the same\n",
        "- more mileage generally means lower price,\n",
        "       but only after the log is larger than 10\n",
        "- better condition generally means higher price\n",
        "   but there seems to be little difference between \n",
        "    condition 1 and 2\n",
        "\n",
        "The mmr value seems to track sellingprice fairly well, \n",
        "  so it is probably the result of some model on \n",
        "  the given features and perhaps more.\n",
        "\n",
        "In summary, age, intcondition and logmileage seem good, \n",
        "  and mmr seems almost too good."
      ],
      "metadata": {
        "id": "_p2tyoI1Aj8Y"
      },
      "id": "_p2tyoI1Aj8Y"
    },
    {
      "cell_type": "markdown",
      "source": [
        "For the categorical columns\n",
        "- transmission: create a new column \"automatic\"\n",
        "- make, color, interior: make dummies\n",
        "- model: I think it is important but too many for\n",
        "     dummies.  I will use target encoding"
      ],
      "metadata": {
        "id": "LuliEVOTm-U-"
      },
      "id": "LuliEVOTm-U-"
    },
    {
      "cell_type": "code",
      "source": [
        "cols = [\"color\", \"interior\", \"transmission\"]\n",
        "fig, axs = plt.subplots(nrows=2, ncols=2, figsize=[20,8])\n",
        "plt.xticks(rotation = 45) \n",
        "fig.tight_layout(h_pad=10)\n",
        "for i, col in enumerate(cols):\n",
        "  r = i // 2\n",
        "  c = i % 2\n",
        "  ax = axs[r, c]\n",
        "  ax.set_ylabel(\"\")\n",
        "  nn_cat.boxplot(ax=ax, column=\"sellingprice\", by=col, grid=True)\n",
        "  ax.set_xticklabels(ax.get_xticklabels(), rotation = 45)  \n",
        "plt.xticks(rotation = 45) \n"
      ],
      "metadata": {
        "id": "fR7w94en7wAG",
        "outputId": "c563997f-8a51-4860-b89e-8e70224b9d98",
        "colab": {
          "base_uri": "https://localhost:8080/",
          "height": 874
        }
      },
      "id": "fR7w94en7wAG",
      "execution_count": null,
      "outputs": [
        {
          "output_type": "stream",
          "name": "stderr",
          "text": [
            "/usr/local/lib/python3.8/dist-packages/matplotlib/cbook/__init__.py:1376: VisibleDeprecationWarning: Creating an ndarray from ragged nested sequences (which is a list-or-tuple of lists-or-tuples-or ndarrays with different lengths or shapes) is deprecated. If you meant to do this, you must specify 'dtype=object' when creating the ndarray.\n",
            "  X = np.atleast_1d(X.T if isinstance(X, np.ndarray) else np.asarray(X))\n",
            "/usr/local/lib/python3.8/dist-packages/matplotlib/cbook/__init__.py:1376: VisibleDeprecationWarning: Creating an ndarray from ragged nested sequences (which is a list-or-tuple of lists-or-tuples-or ndarrays with different lengths or shapes) is deprecated. If you meant to do this, you must specify 'dtype=object' when creating the ndarray.\n",
            "  X = np.atleast_1d(X.T if isinstance(X, np.ndarray) else np.asarray(X))\n",
            "/usr/local/lib/python3.8/dist-packages/matplotlib/cbook/__init__.py:1376: VisibleDeprecationWarning: Creating an ndarray from ragged nested sequences (which is a list-or-tuple of lists-or-tuples-or ndarrays with different lengths or shapes) is deprecated. If you meant to do this, you must specify 'dtype=object' when creating the ndarray.\n",
            "  X = np.atleast_1d(X.T if isinstance(X, np.ndarray) else np.asarray(X))\n",
            "/usr/local/lib/python3.8/dist-packages/matplotlib/cbook/__init__.py:1376: VisibleDeprecationWarning: Creating an ndarray from ragged nested sequences (which is a list-or-tuple of lists-or-tuples-or ndarrays with different lengths or shapes) is deprecated. If you meant to do this, you must specify 'dtype=object' when creating the ndarray.\n",
            "  X = np.atleast_1d(X.T if isinstance(X, np.ndarray) else np.asarray(X))\n"
          ]
        },
        {
          "output_type": "execute_result",
          "data": {
            "text/plain": [
              "(array([ 1,  2,  3,  4,  5,  6,  7,  8,  9, 10, 11, 12, 13, 14, 15, 16, 17,\n",
              "        18, 19, 20, 21, 22, 23, 24, 25, 26, 27, 28, 29, 30, 31, 32, 33, 34,\n",
              "        35, 36, 37, 38, 39, 40, 41, 42, 43, 44, 45, 46, 47, 48, 49, 50, 51,\n",
              "        52, 53, 54, 55, 56, 57, 58, 59, 60, 61, 62, 63, 64, 65, 66, 67, 68,\n",
              "        69, 70, 71, 72, 73, 74, 75, 76, 77]),\n",
              " <a list of 77 Text major ticklabel objects>)"
            ]
          },
          "metadata": {},
          "execution_count": 123
        },
        {
          "output_type": "display_data",
          "data": {
            "text/plain": [
              "<Figure size 1440x576 with 4 Axes>"
            ],
            "image/png": "[encoded data removed]"
          },
          "metadata": {
            "needs_background": "light"
          }
        }
      ]
    },
    {
      "cell_type": "markdown",
      "source": [
        "There are too many body types for me to make much sense of it.\n",
        "However, if I were planning to bid myself I might dig deeper there.\n",
        "\n",
        "I don't see anything in particular to use in color or transmission.\n",
        "With interior, it seems that it might be worth having a variable\n",
        "for whether it is off-white or not."
      ],
      "metadata": {
        "id": "UNKiMbgF_2zq"
      },
      "id": "UNKiMbgF_2zq"
    },
    {
      "cell_type": "code",
      "source": [
        "nn_cat[\"off_white\"] = nn.interior.apply(lambda x: int(x==\"off-white\"))"
      ],
      "metadata": {
        "id": "-Z6ocCCsAaga"
      },
      "id": "-Z6ocCCsAaga",
      "execution_count": null,
      "outputs": []
    },
    {
      "cell_type": "markdown",
      "source": [
        "### Make and Model\n",
        "What to do with make and model which certainly will affect the sellingprice.  I think there are too many models to use one-hot encoding to make it a factor, but I also don't think make is enough ... I tried it.\n",
        "So one possible way to procede is to build a different model for each make.  I think a given make has a manageable number of models so this seems like a good approach, especially for a seller who might have only one or a few make or a buyer who is only interested in a few makes.\n"
      ],
      "metadata": {
        "id": "AzUc-8OWjO2h"
      },
      "id": "AzUc-8OWjO2h"
    },
    {
      "cell_type": "code",
      "source": [
        "data = nn_cat[nn_cat.make == \"Toyota\"].copy()"
      ],
      "metadata": {
        "id": "A3VG-wCFjIPQ"
      },
      "id": "A3VG-wCFjIPQ",
      "execution_count": null,
      "outputs": []
    },
    {
      "cell_type": "code",
      "source": [
        "cat_cols = [\"model\", \"intcondition\", \"logmileage\", \"age\"]\n",
        "for ccol in cat_cols:\n",
        "  dummies = pd.get_dummies(data[ccol])\n",
        "  dummies.columns = [f\"{ccol}__{x}\" for x in dummies.columns]\n",
        "  data = pd.concat([data, dummies], axis=1)"
      ],
      "metadata": {
        "id": "1-AgKywnTX65"
      },
      "id": "1-AgKywnTX65",
      "execution_count": null,
      "outputs": []
    },
    {
      "cell_type": "markdown",
      "source": [
        "Target encoding for model, i.e. create a new variable with the mean selling price of each model."
      ],
      "metadata": {
        "id": "aiq_Q_12zAQv"
      },
      "id": "aiq_Q_12zAQv"
    },
    {
      "cell_type": "code",
      "source": [
        "dummy_cols = [x for x in  data.columns if \"_\" in x] + [\"off_white\"]\n",
        "num_cols = [\"condition\", \"odometer\", ]\n",
        "xcols = num_cols + dummy_cols\n",
        "ycol = \"sellingprice\"\n",
        "X = data[xcols]\n",
        "y = data[ycol]"
      ],
      "metadata": {
        "id": "NSTpqk3xzUut"
      },
      "id": "NSTpqk3xzUut",
      "execution_count": null,
      "outputs": []
    },
    {
      "cell_type": "code",
      "source": [
        "print(X.shape, y.shape)"
      ],
      "metadata": {
        "id": "ylyptncz3_Ek",
        "outputId": "a4adad11-85ed-437e-b13d-f3de9af6b467",
        "colab": {
          "base_uri": "https://localhost:8080/"
        }
      },
      "id": "ylyptncz3_Ek",
      "execution_count": null,
      "outputs": [
        {
          "output_type": "stream",
          "name": "stdout",
          "text": [
            "(31437, 53) (31437,)\n"
          ]
        }
      ]
    },
    {
      "cell_type": "code",
      "execution_count": null,
      "id": "aa6718ed",
      "metadata": {
        "colab": {
          "base_uri": "https://localhost:8080/"
        },
        "id": "aa6718ed",
        "outputId": "9b6fd714-f0d9-4a87-ac55-56759fbfe1ed"
      },
      "outputs": [
        {
          "output_type": "execute_result",
          "data": {
            "text/plain": [
              "GradientBoostingRegressor(n_estimators=300)"
            ]
          },
          "metadata": {},
          "execution_count": 134
        }
      ],
      "source": [
        "from sklearn.ensemble import RandomForestRegressor, GradientBoostingRegressor\n",
        "regr = RandomForestRegressor(max_depth=3, n_estimators=300, random_state=0)\n",
        "regr = GradientBoostingRegressor(n_estimators=300)\n",
        "regr.fit(X, y)"
      ]
    },
    {
      "cell_type": "code",
      "source": [
        "ypred = regr.predict(X)\n",
        "fig, ax = plt.subplots(nrows=1, ncols=2, sharey=True, sharex=True)\n",
        "data[\"ypred\"] = ypred\n",
        "ax[0].scatter(y, ypred)\n",
        "ax[1].scatter(y, data.mmr)"
      ],
      "metadata": {
        "id": "I_rgTTk_4KTU",
        "outputId": "6b827e53-dd7b-47b6-f1ee-943d04e74cb0",
        "colab": {
          "base_uri": "https://localhost:8080/",
          "height": 282
        }
      },
      "id": "I_rgTTk_4KTU",
      "execution_count": null,
      "outputs": [
        {
          "output_type": "execute_result",
          "data": {
            "text/plain": [
              "<matplotlib.collections.PathCollection at 0x7fab13519ac0>"
            ]
          },
          "metadata": {},
          "execution_count": 135
        },
        {
          "output_type": "display_data",
          "data": {
            "text/plain": [
              "<Figure size 432x288 with 2 Axes>"
            ],
            "image/png": "[encoded data removed]"
          },
          "metadata": {
            "needs_background": "light"
          }
        }
      ]
    },
    {
      "cell_type": "code",
      "source": [
        "myrmse = np.sqrt(np.mean((y - ypred)**2))\n",
        "mmrmse = np.sqrt(np.mean((y - data.mmr)**2))\n",
        "print(f\"{myrmse}  {mmrmse} \")"
      ],
      "metadata": {
        "id": "9SYE7Itg4jcx",
        "outputId": "a2a3521d-e1c9-402e-9f3d-f53380874c8f",
        "colab": {
          "base_uri": "https://localhost:8080/"
        }
      },
      "id": "9SYE7Itg4jcx",
      "execution_count": null,
      "outputs": [
        {
          "output_type": "stream",
          "name": "stdout",
          "text": [
            "1785.6516403987464  1405.466398838191 \n"
          ]
        }
      ]
    },
    {
      "cell_type": "code",
      "source": [
        "import pandas as pd\n",
        "import time\n",
        "import numpy as np\n",
        "\n",
        "start_time = time.time()\n",
        "importances = regr.feature_importances_\n",
        "#std = np.std([tree.feature_importances_ for tree in regr.estimators_], axis=0)\n",
        "elapsed_time = time.time() - start_time\n",
        "forest_importances = pd.Series(importances, index=X.columns)\n",
        "\n",
        "fig, ax = plt.subplots(figsize=[20,6])\n",
        "forest_importances.plot.bar( ax=ax)\n",
        "ax.set_title(\"Feature importances using MDI\")\n",
        "ax.set_ylabel(\"Mean decrease in impurity\")\n",
        "fig.tight_layout()\n"
      ],
      "metadata": {
        "id": "PnfiyfiP4u15",
        "outputId": "34984ab5-b27a-498e-db5f-d0cd5a9e28d4",
        "colab": {
          "base_uri": "https://localhost:8080/",
          "height": 439
        }
      },
      "id": "PnfiyfiP4u15",
      "execution_count": null,
      "outputs": [
        {
          "output_type": "display_data",
          "data": {
            "text/plain": [
              "<Figure size 1440x432 with 1 Axes>"
            ],
            "image/png": "[encoded data removed]"
          },
          "metadata": {
            "needs_background": "light"
          }
        }
      ]
    },
    {
      "cell_type": "code",
      "source": [
        "X.head()"
      ],
      "metadata": {
        "id": "Gvp1xP9aD7eV",
        "outputId": "c61de646-cd5f-42bd-fd14-13285eb445eb",
        "colab": {
          "base_uri": "https://localhost:8080/",
          "height": 288
        }
      },
      "id": "Gvp1xP9aD7eV",
      "execution_count": null,
      "outputs": [
        {
          "output_type": "execute_result",
          "data": {
            "text/plain": [
              "    condition  odometer  age  interior__beige  interior__black  \\\n",
              "5         1.0    5554.0   -1                0                1   \n",
              "15        2.0   11398.0   -1                0                1   \n",
              "53        1.0    4314.0   -1                0                1   \n",
              "62        3.9    1608.0   -1                0                1   \n",
              "69        2.0    5773.0    0                0                1   \n",
              "\n",
              "    interior__blue  interior__brown  interior__burgundy  interior__gold  \\\n",
              "5                0                0                   0               0   \n",
              "15               0                0                   0               0   \n",
              "53               0                0                   0               0   \n",
              "62               0                0                   0               0   \n",
              "69               0                0                   0               0   \n",
              "\n",
              "    interior__gray  interior__green  interior__orange  interior__purple  \\\n",
              "5                0                0                 0                 0   \n",
              "15               0                0                 0                 0   \n",
              "53               0                0                 0                 0   \n",
              "62               0                0                 0                 0   \n",
              "69               0                0                 0                 0   \n",
              "\n",
              "    interior__red  interior__silver  interior__tan  interior__white  \\\n",
              "5               0                 0              0                0   \n",
              "15              0                 0              0                0   \n",
              "53              0                 0              0                0   \n",
              "62              0                 0              0                0   \n",
              "69              0                 0              0                0   \n",
              "\n",
              "    interior__—  automatic  \n",
              "5             0       True  \n",
              "15            0       True  \n",
              "53            0       True  \n",
              "62            0      False  \n",
              "69            0       True  "
            ],
            "text/html": [
              "\n",
              "  <div id=\"df-91eb38c7-de99-4d3e-9140-280a0fe49b90\">\n",
              "    <div class=\"colab-df-container\">\n",
              "      <div>\n",
              "<style scoped>\n",
              "    .dataframe tbody tr th:only-of-type {\n",
              "        vertical-align: middle;\n",
              "    }\n",
              "\n",
              "    .dataframe tbody tr th {\n",
              "        vertical-align: top;\n",
              "    }\n",
              "\n",
              "    .dataframe thead th {\n",
              "        text-align: right;\n",
              "    }\n",
              "</style>\n",
              "<table border=\"1\" class=\"dataframe\">\n",
              "  <thead>\n",
              "    <tr style=\"text-align: right;\">\n",
              "      <th></th>\n",
              "      <th>condition</th>\n",
              "      <th>odometer</th>\n",
              "      <th>age</th>\n",
              "      <th>interior__beige</th>\n",
              "      <th>interior__black</th>\n",
              "      <th>interior__blue</th>\n",
              "      <th>interior__brown</th>\n",
              "      <th>interior__burgundy</th>\n",
              "      <th>interior__gold</th>\n",
              "      <th>interior__gray</th>\n",
              "      <th>interior__green</th>\n",
              "      <th>interior__orange</th>\n",
              "      <th>interior__purple</th>\n",
              "      <th>interior__red</th>\n",
              "      <th>interior__silver</th>\n",
              "      <th>interior__tan</th>\n",
              "      <th>interior__white</th>\n",
              "      <th>interior__—</th>\n",
              "      <th>automatic</th>\n",
              "    </tr>\n",
              "  </thead>\n",
              "  <tbody>\n",
              "    <tr>\n",
              "      <th>5</th>\n",
              "      <td>1.0</td>\n",
              "      <td>5554.0</td>\n",
              "      <td>-1</td>\n",
              "      <td>0</td>\n",
              "      <td>1</td>\n",
              "      <td>0</td>\n",
              "      <td>0</td>\n",
              "      <td>0</td>\n",
              "      <td>0</td>\n",
              "      <td>0</td>\n",
              "      <td>0</td>\n",
              "      <td>0</td>\n",
              "      <td>0</td>\n",
              "      <td>0</td>\n",
              "      <td>0</td>\n",
              "      <td>0</td>\n",
              "      <td>0</td>\n",
              "      <td>0</td>\n",
              "      <td>True</td>\n",
              "    </tr>\n",
              "    <tr>\n",
              "      <th>15</th>\n",
              "      <td>2.0</td>\n",
              "      <td>11398.0</td>\n",
              "      <td>-1</td>\n",
              "      <td>0</td>\n",
              "      <td>1</td>\n",
              "      <td>0</td>\n",
              "      <td>0</td>\n",
              "      <td>0</td>\n",
              "      <td>0</td>\n",
              "      <td>0</td>\n",
              "      <td>0</td>\n",
              "      <td>0</td>\n",
              "      <td>0</td>\n",
              "      <td>0</td>\n",
              "      <td>0</td>\n",
              "      <td>0</td>\n",
              "      <td>0</td>\n",
              "      <td>0</td>\n",
              "      <td>True</td>\n",
              "    </tr>\n",
              "    <tr>\n",
              "      <th>53</th>\n",
              "      <td>1.0</td>\n",
              "      <td>4314.0</td>\n",
              "      <td>-1</td>\n",
              "      <td>0</td>\n",
              "      <td>1</td>\n",
              "      <td>0</td>\n",
              "      <td>0</td>\n",
              "      <td>0</td>\n",
              "      <td>0</td>\n",
              "      <td>0</td>\n",
              "      <td>0</td>\n",
              "      <td>0</td>\n",
              "      <td>0</td>\n",
              "      <td>0</td>\n",
              "      <td>0</td>\n",
              "      <td>0</td>\n",
              "      <td>0</td>\n",
              "      <td>0</td>\n",
              "      <td>True</td>\n",
              "    </tr>\n",
              "    <tr>\n",
              "      <th>62</th>\n",
              "      <td>3.9</td>\n",
              "      <td>1608.0</td>\n",
              "      <td>-1</td>\n",
              "      <td>0</td>\n",
              "      <td>1</td>\n",
              "      <td>0</td>\n",
              "      <td>0</td>\n",
              "      <td>0</td>\n",
              "      <td>0</td>\n",
              "      <td>0</td>\n",
              "      <td>0</td>\n",
              "      <td>0</td>\n",
              "      <td>0</td>\n",
              "      <td>0</td>\n",
              "      <td>0</td>\n",
              "      <td>0</td>\n",
              "      <td>0</td>\n",
              "      <td>0</td>\n",
              "      <td>False</td>\n",
              "    </tr>\n",
              "    <tr>\n",
              "      <th>69</th>\n",
              "      <td>2.0</td>\n",
              "      <td>5773.0</td>\n",
              "      <td>0</td>\n",
              "      <td>0</td>\n",
              "      <td>1</td>\n",
              "      <td>0</td>\n",
              "      <td>0</td>\n",
              "      <td>0</td>\n",
              "      <td>0</td>\n",
              "      <td>0</td>\n",
              "      <td>0</td>\n",
              "      <td>0</td>\n",
              "      <td>0</td>\n",
              "      <td>0</td>\n",
              "      <td>0</td>\n",
              "      <td>0</td>\n",
              "      <td>0</td>\n",
              "      <td>0</td>\n",
              "      <td>True</td>\n",
              "    </tr>\n",
              "  </tbody>\n",
              "</table>\n",
              "</div>\n",
              "      <button class=\"colab-df-convert\" onclick=\"convertToInteractive('df-91eb38c7-de99-4d3e-9140-280a0fe49b90')\"\n",
              "              title=\"Convert this dataframe to an interactive table.\"\n",
              "              style=\"display:none;\">\n",
              "        \n",
              "  <svg xmlns=\"http://www.w3.org/2000/svg\" height=\"24px\"viewBox=\"0 0 24 24\"\n",
              "       width=\"24px\">\n",
              "    <path d=\"M0 0h24v24H0V0z\" fill=\"none\"/>\n",
              "    <path d=\"M18.56 5.44l.94 2.06.94-2.06 2.06-.94-2.06-.94-.94-2.06-.94 2.06-2.06.94zm-11 1L8.5 8.5l.94-2.06 2.06-.94-2.06-.94L8.5 2.5l-.94 2.06-2.06.94zm10 10l.94 2.06.94-2.06 2.06-.94-2.06-.94-.94-2.06-.94 2.06-2.06.94z\"/><path d=\"M17.41 7.96l-1.37-1.37c-.4-.4-.92-.59-1.43-.59-.52 0-1.04.2-1.43.59L10.3 9.45l-7.72 7.72c-.78.78-.78 2.05 0 2.83L4 21.41c.39.39.9.59 1.41.59.51 0 1.02-.2 1.41-.59l7.78-7.78 2.81-2.81c.8-.78.8-2.07 0-2.86zM5.41 20L4 18.59l7.72-7.72 1.47 1.35L5.41 20z\"/>\n",
              "  </svg>\n",
              "      </button>\n",
              "      \n",
              "  <style>\n",
              "    .colab-df-container {\n",
              "      display:flex;\n",
              "      flex-wrap:wrap;\n",
              "      gap: 12px;\n",
              "    }\n",
              "\n",
              "    .colab-df-convert {\n",
              "      background-color: #E8F0FE;\n",
              "      border: none;\n",
              "      border-radius: 50%;\n",
              "      cursor: pointer;\n",
              "      display: none;\n",
              "      fill: #1967D2;\n",
              "      height: 32px;\n",
              "      padding: 0 0 0 0;\n",
              "      width: 32px;\n",
              "    }\n",
              "\n",
              "    .colab-df-convert:hover {\n",
              "      background-color: #E2EBFA;\n",
              "      box-shadow: 0px 1px 2px rgba(60, 64, 67, 0.3), 0px 1px 3px 1px rgba(60, 64, 67, 0.15);\n",
              "      fill: #174EA6;\n",
              "    }\n",
              "\n",
              "    [theme=dark] .colab-df-convert {\n",
              "      background-color: #3B4455;\n",
              "      fill: #D2E3FC;\n",
              "    }\n",
              "\n",
              "    [theme=dark] .colab-df-convert:hover {\n",
              "      background-color: #434B5C;\n",
              "      box-shadow: 0px 1px 3px 1px rgba(0, 0, 0, 0.15);\n",
              "      filter: drop-shadow(0px 1px 2px rgba(0, 0, 0, 0.3));\n",
              "      fill: #FFFFFF;\n",
              "    }\n",
              "  </style>\n",
              "\n",
              "      <script>\n",
              "        const buttonEl =\n",
              "          document.querySelector('#df-91eb38c7-de99-4d3e-9140-280a0fe49b90 button.colab-df-convert');\n",
              "        buttonEl.style.display =\n",
              "          google.colab.kernel.accessAllowed ? 'block' : 'none';\n",
              "\n",
              "        async function convertToInteractive(key) {\n",
              "          const element = document.querySelector('#df-91eb38c7-de99-4d3e-9140-280a0fe49b90');\n",
              "          const dataTable =\n",
              "            await google.colab.kernel.invokeFunction('convertToInteractive',\n",
              "                                                     [key], {});\n",
              "          if (!dataTable) return;\n",
              "\n",
              "          const docLinkHtml = 'Like what you see? Visit the ' +\n",
              "            '<a target=\"_blank\" href=https://colab.research.google.com/notebooks/data_table.ipynb>data table notebook</a>'\n",
              "            + ' to learn more about interactive tables.';\n",
              "          element.innerHTML = '';\n",
              "          dataTable['output_type'] = 'display_data';\n",
              "          await google.colab.output.renderOutput(dataTable, element);\n",
              "          const docLink = document.createElement('div');\n",
              "          docLink.innerHTML = docLinkHtml;\n",
              "          element.appendChild(docLink);\n",
              "        }\n",
              "      </script>\n",
              "    </div>\n",
              "  </div>\n",
              "  "
            ]
          },
          "metadata": {},
          "execution_count": 57
        }
      ]
    },
    {
      "cell_type": "code",
      "source": [],
      "metadata": {
        "id": "NDcP4kZdlURI"
      },
      "id": "NDcP4kZdlURI",
      "execution_count": null,
      "outputs": []
    }
  ],
  "metadata": {
    "kernelspec": {
      "display_name": "Python 3 (ipykernel)",
      "language": "python",
      "name": "python3"
    },
    "language_info": {
      "codemirror_mode": {
        "name": "ipython",
        "version": 3
      },
      "file_extension": ".py",
      "mimetype": "text/x-python",
      "name": "python",
      "nbconvert_exporter": "python",
      "pygments_lexer": "ipython3",
      "version": "3.9.7"
    },
    "colab": {
      "provenance": []
    }
  },
  "nbformat": 4,
  "nbformat_minor": 5
}